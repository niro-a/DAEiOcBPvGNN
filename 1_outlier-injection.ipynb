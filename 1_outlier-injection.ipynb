{
 "cells": [
  {
   "cell_type": "code",
   "execution_count": 2,
   "id": "8e4ce82c",
   "metadata": {
    "colab": {
     "base_uri": "https://localhost:8080/"
    },
    "id": "8e4ce82c",
    "outputId": "5d8aa87d-930b-4c41-d7e9-06f78ad82ff4"
   },
   "outputs": [],
   "source": [
    "import pandas as pd\n",
    "import numpy as np"
   ]
  },
  {
   "cell_type": "code",
   "execution_count": 3,
   "id": "aad4d97a",
   "metadata": {},
   "outputs": [],
   "source": [
    "from functions.outlier_injection import *"
   ]
  },
  {
   "cell_type": "code",
   "execution_count": 4,
   "id": "2692a594",
   "metadata": {},
   "outputs": [],
   "source": [
    "import random\n",
    "random.seed(123)\n",
    "np.random.seed(123)"
   ]
  },
  {
   "cell_type": "markdown",
   "id": "ee32921d",
   "metadata": {},
   "source": [
    "## Outlier Generation"
   ]
  },
  {
   "cell_type": "code",
   "execution_count": 7,
   "id": "ff3acd74",
   "metadata": {},
   "outputs": [],
   "source": [
    "bpi17_data = pd.read_csv('data-prepro/bpi17_prepro.csv')\n",
    "\n",
    "bpi17_dict = {'path': 'outliers/bpi17/',\n",
    "              'name': 'bpi17',\n",
    "              'obj1': 'application',\n",
    "              'obj2': 'offer',\n",
    "              'obj3': None,\n",
    "              'start': 5,\n",
    "              'k': 500}"
   ]
  },
  {
   "cell_type": "code",
   "execution_count": 8,
   "id": "1df35357",
   "metadata": {},
   "outputs": [
    {
     "name": "stdout",
     "output_type": "stream",
     "text": [
      "Total time: 53 minutes 39 seconds\n"
     ]
    }
   ],
   "source": [
    "dataset_generation(bpi17_data, bpi17_dict, iterations=5, anom_per=0.1)"
   ]
  },
  {
   "cell_type": "code",
   "execution_count": 5,
   "id": "f917bbed",
   "metadata": {},
   "outputs": [],
   "source": [
    "ds2_data = pd.read_csv('data-prepro/ds2_prepro.csv')\n",
    "\n",
    "ds2_dict = {'path': 'outliers/ds2/',\n",
    "            'name': 'ds2',\n",
    "            'obj1': 'orders',\n",
    "            'obj2': 'packages',\n",
    "            'obj3': 'items',\n",
    "            'start': 6,\n",
    "            'k': 500}"
   ]
  },
  {
   "cell_type": "code",
   "execution_count": 6,
   "id": "1e8d4b7c",
   "metadata": {},
   "outputs": [
    {
     "name": "stdout",
     "output_type": "stream",
     "text": [
      "Total time: 2 minutes 11 seconds\n"
     ]
    }
   ],
   "source": [
    "dataset_generation(ds2_data, ds2_dict, iterations=5, anom_per=0.1)"
   ]
  }
 ],
 "metadata": {
  "accelerator": "GPU",
  "colab": {
   "collapsed_sections": [],
   "provenance": []
  },
  "gpuClass": "standard",
  "kernelspec": {
   "display_name": "Python 3 (ipykernel)",
   "language": "python",
   "name": "python3"
  },
  "language_info": {
   "codemirror_mode": {
    "name": "ipython",
    "version": 3
   },
   "file_extension": ".py",
   "mimetype": "text/x-python",
   "name": "python",
   "nbconvert_exporter": "python",
   "pygments_lexer": "ipython3",
   "version": "3.10.13"
  }
 },
 "nbformat": 4,
 "nbformat_minor": 5
}
