{
 "cells": [
  {
   "cell_type": "code",
   "execution_count": 1,
   "id": "8e4ce82c",
   "metadata": {
    "colab": {
     "base_uri": "https://localhost:8080/"
    },
    "id": "8e4ce82c",
    "outputId": "5d8aa87d-930b-4c41-d7e9-06f78ad82ff4",
    "pycharm": {
     "name": "#%%\n"
    }
   },
   "outputs": [],
   "source": [
    "import pandas as pd\n",
    "import numpy as np\n",
    "import torch"
   ]
  },
  {
   "cell_type": "code",
   "execution_count": 2,
   "id": "82e7b163",
   "metadata": {},
   "outputs": [],
   "source": [
    "from functions.training import train_eval_gcnae"
   ]
  },
  {
   "cell_type": "markdown",
   "id": "ca98243f",
   "metadata": {
    "id": "ca98243f",
    "pycharm": {
     "name": "#%% md\n"
    }
   },
   "source": [
    "## Training"
   ]
  },
  {
   "cell_type": "code",
   "execution_count": 5,
   "id": "35eaf67d",
   "metadata": {},
   "outputs": [
    {
     "data": {
      "text/plain": [
       "device(type='cuda')"
      ]
     },
     "execution_count": 5,
     "metadata": {},
     "output_type": "execute_result"
    }
   ],
   "source": [
    "torch.device('cuda' if torch.cuda.is_available() else 'cpu')"
   ]
  },
  {
   "cell_type": "code",
   "execution_count": 6,
   "id": "9c0c06f0",
   "metadata": {},
   "outputs": [
    {
     "name": "stderr",
     "output_type": "stream",
     "text": [
      "100%|████████████████████████████████████████████████████████████████████████████████████| 5/5 [03:09<00:00, 37.87s/it]\n"
     ]
    },
    {
     "name": "stdout",
     "output_type": "stream",
     "text": [
      "Evaluation metrics:\n",
      "-------------------\n",
      "                          Mean       Std       \n",
      "F1                        61.0       0.2       \n",
      "AUC ROC                   82.4       0.0       \n",
      "AUC Precision-Recall      60.3       0.2       \n",
      "Recall @ 10               64.7       0.2       \n",
      "\n",
      "Hit Rate 0: 97.47 ± 0.06\n",
      "Hit Rate 1: 95.75 ± 0.40\n",
      "Hit Rate 2: 2.57 ± 0.05\n",
      "Hit Rate 3: 63.13 ± 1.27\n",
      "\n",
      "Time: Total / Average     189.4      18.9      \n"
     ]
    }
   ],
   "source": [
    "bpi17_graph_path = 'process_graphs/bpi17/'\n",
    "\n",
    "bpi17_attr_dims = [41, 1, 1, 1, 1, 1, 1, 2, 2, 4, 2, 3, 14, 145]\n",
    "\n",
    "train_eval_gcnae(bpi17_graph_path, batch_size=0, attribute_dims=bpi17_attr_dims)"
   ]
  },
  {
   "cell_type": "code",
   "execution_count": 3,
   "id": "841b8754",
   "metadata": {},
   "outputs": [
    {
     "name": "stderr",
     "output_type": "stream",
     "text": [
      "100%|██████████| 5/5 [00:10<00:00,  2.19s/it]"
     ]
    },
    {
     "name": "stdout",
     "output_type": "stream",
     "text": [
      "Evaluation metrics:\n",
      "-------------------\n",
      "                          Mean       Std       \n",
      "F1                        59.1       0.2       \n",
      "AUC ROC                   82.3       0.4       \n",
      "AUC Precision-Recall      64.9       0.4       \n",
      "Recall @ 10               66.5       0.2       \n",
      "\n",
      "Hit Rate 0: 93.23 ± 0.10\n",
      "Hit Rate 1: 96.68 ± 0.22\n",
      "Hit Rate 2: 6.18 ± 0.83\n",
      "Hit Rate 3: 100.00 ± 0.00\n",
      "\n",
      "Time: Total / Average     11.0       1.1       \n"
     ]
    },
    {
     "name": "stderr",
     "output_type": "stream",
     "text": [
      "\n"
     ]
    }
   ],
   "source": [
    "ds2_graph_path = 'process_graphs/ds2/'\n",
    "\n",
    "ds2_attr_dims = [21, 1, 1, 20, 17]\n",
    "\n",
    "train_eval_gcnae(ds2_graph_path, batch_size=0, attribute_dims=ds2_attr_dims)"
   ]
  },
  {
   "cell_type": "code",
   "execution_count": null,
   "id": "15827039",
   "metadata": {},
   "outputs": [],
   "source": []
  }
 ],
 "metadata": {
  "accelerator": "GPU",
  "colab": {
   "collapsed_sections": [],
   "provenance": []
  },
  "gpuClass": "standard",
  "kernelspec": {
   "display_name": "Python 3 (ipykernel)",
   "language": "python",
   "name": "python3"
  },
  "language_info": {
   "codemirror_mode": {
    "name": "ipython",
    "version": 3
   },
   "file_extension": ".py",
   "mimetype": "text/x-python",
   "name": "python",
   "nbconvert_exporter": "python",
   "pygments_lexer": "ipython3",
   "version": "3.10.13"
  }
 },
 "nbformat": 4,
 "nbformat_minor": 5
}
